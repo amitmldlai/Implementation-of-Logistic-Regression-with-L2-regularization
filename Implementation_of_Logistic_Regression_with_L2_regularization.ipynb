{
  "cells": [
    {
      "cell_type": "markdown",
      "metadata": {
        "id": "view-in-github",
        "colab_type": "text"
      },
      "source": [
        "<a href=\"https://colab.research.google.com/github/amitmldlai/Implementation-of-Logistic-Regression-with-L2-regularization/blob/main/Implementation_of_Logistic_Regression_with_L2_regularization.ipynb\" target=\"_parent\"><img src=\"https://colab.research.google.com/assets/colab-badge.svg\" alt=\"Open In Colab\"/></a>"
      ]
    },
    {
      "cell_type": "markdown",
      "metadata": {
        "id": "Fk5DSPCLxqT-"
      },
      "source": [
        "**Imports**"
      ]
    },
    {
      "cell_type": "code",
      "execution_count": 127,
      "metadata": {
        "id": "42Et8BKIxnsp"
      },
      "outputs": [],
      "source": [
        "import numpy as np\n",
        "import pandas as pd\n",
        "from sklearn.datasets import make_classification\n",
        "from sklearn.model_selection import train_test_split\n",
        "from sklearn import linear_model\n",
        "import matplotlib.pyplot as plt\n",
        "import math"
      ]
    },
    {
      "cell_type": "markdown",
      "metadata": {
        "id": "NpSk3WQBx7TQ"
      },
      "source": [
        "**Creating custom dataset**"
      ]
    },
    {
      "cell_type": "code",
      "execution_count": 128,
      "metadata": {
        "id": "BsMp0oWzx6dv"
      },
      "outputs": [],
      "source": [
        "X, y = make_classification(n_samples=50000, n_features=15, n_informative=10, n_redundant=5, n_classes=2, weights=[0.7], class_sep=0.7, random_state=15)"
      ]
    },
    {
      "cell_type": "markdown",
      "metadata": {
        "id": "x99RWCgpqNHw"
      },
      "source": [
        "**Splitting data into train and test**"
      ]
    },
    {
      "cell_type": "code",
      "execution_count": 129,
      "metadata": {
        "id": "0Kh4dBfVyJMP"
      },
      "outputs": [],
      "source": [
        "X_train, X_test, y_train, y_test = train_test_split(X, y, test_size=0.25, random_state=15)"
      ]
    },
    {
      "cell_type": "code",
      "execution_count": 130,
      "metadata": {
        "colab": {
          "base_uri": "https://localhost:8080/"
        },
        "id": "0DR_YMBsyOci",
        "outputId": "32362281-2a1f-40a5-dd20-729756c45dd6"
      },
      "outputs": [
        {
          "output_type": "execute_result",
          "data": {
            "text/plain": [
              "((37500, 15), (37500,), (12500, 15), (12500,))"
            ]
          },
          "metadata": {},
          "execution_count": 130
        }
      ],
      "source": [
        "X_train.shape, y_train.shape, X_test.shape, y_test.shape"
      ]
    },
    {
      "cell_type": "markdown",
      "metadata": {
        "id": "_-CcGTKgsMrY"
      },
      "source": [
        "\n",
        "\n",
        "\n",
        "#Implementation of Logistic Regression with L2 regularizationA\n",
        "\n"
      ]
    },
    {
      "cell_type": "markdown",
      "metadata": {
        "id": "zU2Y3-FQuJ3z"
      },
      "source": [
        "\n",
        "<br>\n",
        "\n",
        "* Initialize the weight_vector and intercept term to zeros \n",
        "\n",
        "* Define a loss function\n",
        "\n",
        " $log loss = -1*\\frac{1}{n}\\Sigma_{for each Yt,Y_{pred}}(Ytlog10(Y_{pred})+(1-Yt)log10(1-Y_{pred}))$\n",
        "- for each epoch:\n",
        "\n",
        "    - for each batch of data points in train: (let batch size=1)\n",
        "\n",
        "        - calculate the gradient of loss function w.r.t each weight in weight vector\n",
        "\n",
        "        $dw^{(t)} = x_n(y_n − σ((w^{(t)})^{T} x_n+b^{t}))- \\frac{λ}{N}w^{(t)})$ <br>\n",
        "\n",
        "        - Calculate the gradient of the intercept , <a href='https://drive.google.com/file/d/1nQ08-XY4zvOLzRX-lGf8EYB5arb7-m1H/view?usp=sharing'>check this</a>\n",
        "\n",
        "           $ db^{(t)} = y_n- σ((w^{(t)})^{T} x_n+b^{t}))$\n",
        "\n",
        "        - Update weights and intercept (check the equation number 32 in the above mentioned <a href='https://drive.google.com/file/d/1nQ08-XY4zvOLzRX-lGf8EYB5arb7-m1H/view?usp=sharing'>pdf</a>): <br>\n",
        "        $w^{(t+1)}← w^{(t)}+α(dw^{(t)}) $<br>\n",
        "\n",
        "        $b^{(t+1)}←b^{(t)}+α(db^{(t)}) $\n",
        "    - calculate the log loss for train and test with the updated weights \n",
        "    - append the loss in the list (this will be used to see how loss is changing for each epoch after the training is over)\n"
      ]
    },
    {
      "cell_type": "markdown",
      "metadata": {
        "id": "qPv4NJuxABgs"
      },
      "source": [
        "$sigmoid(z)= 1/(1+exp(-z))$"
      ]
    },
    {
      "cell_type": "markdown",
      "metadata": {
        "id": "lfEiS22zBVYy"
      },
      "source": [
        "$log loss = -1*\\frac{1}{n}\\Sigma_{for each Yt,Y_{pred}}(Ytlog10(Y_{pred})+(1-Yt)log10(1-Y_{pred}))$"
      ]
    },
    {
      "cell_type": "markdown",
      "metadata": {
        "id": "YTMxiYKaCQgd"
      },
      "source": [
        "$dw^{(t)} = x_n(y_n − σ((w^{(t)})^{T} x_n+b^{t}))- \\frac{λ}{N}w^{(t)}$ <br>"
      ]
    },
    {
      "cell_type": "markdown",
      "metadata": {
        "id": "fHvTYZzZJJ_N"
      },
      "source": [
        "$ db^{(t)} = y_n- σ((w^{(t)})^{T} x_n+b^{t})$"
      ]
    },
    {
      "cell_type": "markdown",
      "metadata": {
        "id": "ZR_HgjgS_wKu"
      },
      "source": [
        "**Implementing logistic regression**"
      ]
    },
    {
      "cell_type": "code",
      "source": [
        "class CustomLogisticRegression:\n",
        "  def __init__(self, alpha, eta0, epoch):\n",
        "    self.alpha = alpha  # regularizer multipler\n",
        "    self.eta0 = eta0    # learning rate\n",
        "    self.epoch = epoch  # number of epochs\n",
        "    self.train_loss, self.test_loss = list(), list()  # to store train and test loss\n",
        "    self.coef_ = None   # weight matrix\n",
        "    self.intercept_ = None  # intercept term\n",
        "    \n",
        "  def initialize_weights(self, row_vector):\n",
        "    w = np.zeros_like(row_vector, dtype = int)  #initialize the weights as 1d array consisting of all zeros similar to the dimensions of row_vector\n",
        "    b = 0  #initialize bias to zero\n",
        "    return w, b  \n",
        "\n",
        "  def sigmoid(self, z):\n",
        "    output = 1/(1+(1/math.exp(z)))  # return sigmoid of z\n",
        "    return output  \n",
        "  \n",
        "  def gradient_dw(self, x, y, w, b, alpha, N):  # to compute the gardient w.r.t to w\n",
        "    sig_x = np.dot(w, x) + b  # scalar\n",
        "    inter = y - self.sigmoid(sig_x)\n",
        "    next = x * inter\n",
        "    residue = alpha/N * w.T  \n",
        "    dw = next - residue\n",
        "    return dw\n",
        "\n",
        "  def gradient_db(self, x, y, w, b):  # to compute gradient w.r.to b\n",
        "   sig_x = np.dot(w, x) + b\n",
        "   db = y - self.sigmoid(sig_x)\n",
        "   return db   \n",
        "\n",
        "  def logloss(self, y_true, y_pred):\n",
        "    sign = -1\n",
        "    first = np.multiply(y_true, np.log10(y_pred))\n",
        "    second = np.multiply((1 - y_true), np.log10(1- y_pred))\n",
        "    total = np.sum(first+second)\n",
        "    loss = sign * total/len(y_true)\n",
        "    return loss  \n",
        "\n",
        "  def pred(self, w, b, X):  # prediction function used to compute predicted_y given the dataset X\n",
        "    N = len(X)\n",
        "    predict = []\n",
        "    for i in range(N):\n",
        "        z = np.dot(w, X[i]) + b\n",
        "        predict.append(self.sigmoid(z))\n",
        "    return np.array(predict)  \n",
        "\n",
        "  def fit(self, X_train, y_train, X_test, y_test):\n",
        "    N = len(X_train)      \n",
        "    w, b = self.initialize_weights(X_train[0]) # Initialize the weights\n",
        "    for i in range(0, self.epoch):\n",
        "      for j in range(0, len(X_train)):\n",
        "        w_out  = self.gradient_dw(X_train[j], y_train[j], w, b, self.alpha, N)  # compute gradient w.r.to w (call the gradient_dw() function)\n",
        "        b_out  = self.gradient_db(X_train[j],y_train[j], w, b)  # compute gradient w.r.to b (call the gradient_db() function)\n",
        "        w = w + self.eta0*w_out  # update w, \n",
        "        b = b + self.eta0*b_out  # update b, eta0 is learning rate\n",
        "      self.coef_ = w\n",
        "      self.intercept_ = np.array(b)  \n",
        "      y_pred_train = self.pred(w, b, X_train)  # predict the output of x_train using pred function with updated weights\n",
        "      self.train_loss.append(self.logloss(y_train, y_pred_train))  # compute and store the loss between predicted and actual values (call the loss function)\n",
        "      y_pred_test = self.pred(w, b, X_test)  # predict the output of x_test using pred function with updated weights\n",
        "      self.test_loss.append(self.logloss(y_test, y_pred_test))  # compute and store the loss between predicted and actual values (call the loss function)\n",
        "    return  \n",
        "\n",
        "  def plot(self):\n",
        "    plt.figure(figsize=(10, 7))\n",
        "    epoch_number = np.arange(self.epoch)\n",
        "    plt.plot(epoch_number, self.train_loss, label = 'Train loss', linewidth = 3)\n",
        "    plt.plot(epoch_number, self.test_loss, label = 'Test loss', linewidth = 3)\n",
        "    plt.xlabel(\"Epoch\")\n",
        "    plt.xticks(np.arange(1, self.epoch+1))\n",
        "    plt.legend()\n",
        "    plt.grid(True)\n",
        "    plt.ylabel(\"Train-Test Loss\")\n",
        "    plt.title(\"Loss vs Epoch\")\n",
        "    plt.show() "
      ],
      "metadata": {
        "id": "_tp-ADPTRTER"
      },
      "execution_count": 131,
      "outputs": []
    },
    {
      "cell_type": "code",
      "source": [
        "customlr_clf = CustomLogisticRegression(alpha = 0.001, eta0 = 0.0001, epoch = 10)\n",
        "customlr_clf.fit(X_train, y_train, X_test, y_test)"
      ],
      "metadata": {
        "id": "xI-Ci63wiaP-"
      },
      "execution_count": 132,
      "outputs": []
    },
    {
      "cell_type": "markdown",
      "source": [
        "**Plot loss vs Epoch**"
      ],
      "metadata": {
        "id": "Mv3tI_VaepM6"
      }
    },
    {
      "cell_type": "code",
      "execution_count": 133,
      "metadata": {
        "id": "1O6GrRt7UeCJ",
        "colab": {
          "base_uri": "https://localhost:8080/",
          "height": 458
        },
        "outputId": "cfb0dc84-c83e-47c7-f8cf-d212cb099c9a"
      },
      "outputs": [
        {
          "output_type": "display_data",
          "data": {
            "text/plain": [
              "<Figure size 720x504 with 1 Axes>"
            ],
            "image/png": "[encoded data removed]"
          },
          "metadata": {
            "needs_background": "light"
          }
        }
      ],
      "source": [
        "customlr_clf.plot()"
      ]
    },
    {
      "cell_type": "markdown",
      "metadata": {
        "id": "BW4OHswfqjHR"
      },
      "source": [
        "# Sklearn Logistic Regression using SGD classifier "
      ]
    },
    {
      "cell_type": "code",
      "execution_count": 136,
      "metadata": {
        "id": "3HpvTwDHyQQy"
      },
      "outputs": [],
      "source": [
        "sklearn_clf = linear_model.SGDClassifier(eta0=0.0001, alpha=0.0001, loss='log', random_state=15, penalty='l2', tol=1e-3, verbose=2, learning_rate='constant')"
      ]
    },
    {
      "cell_type": "code",
      "execution_count": 137,
      "metadata": {
        "colab": {
          "base_uri": "https://localhost:8080/"
        },
        "id": "YYaVyQ2lyXcr",
        "outputId": "9ec8656f-7e6e-45fc-80f8-c2bd3b0dc76e"
      },
      "outputs": [
        {
          "output_type": "stream",
          "name": "stdout",
          "text": [
            "-- Epoch 1\n",
            "Norm: 0.77, NNZs: 15, Bias: -0.316653, T: 37500, Avg. loss: 0.455552\n",
            "Total training time: 0.01 seconds.\n",
            "-- Epoch 2\n",
            "Norm: 0.91, NNZs: 15, Bias: -0.472747, T: 75000, Avg. loss: 0.394686\n",
            "Total training time: 0.02 seconds.\n",
            "-- Epoch 3\n",
            "Norm: 0.98, NNZs: 15, Bias: -0.580082, T: 112500, Avg. loss: 0.385711\n",
            "Total training time: 0.03 seconds.\n",
            "-- Epoch 4\n",
            "Norm: 1.02, NNZs: 15, Bias: -0.658292, T: 150000, Avg. loss: 0.382083\n",
            "Total training time: 0.05 seconds.\n",
            "-- Epoch 5\n",
            "Norm: 1.04, NNZs: 15, Bias: -0.719528, T: 187500, Avg. loss: 0.380486\n",
            "Total training time: 0.06 seconds.\n",
            "-- Epoch 6\n",
            "Norm: 1.05, NNZs: 15, Bias: -0.763409, T: 225000, Avg. loss: 0.379578\n",
            "Total training time: 0.07 seconds.\n",
            "-- Epoch 7\n",
            "Norm: 1.06, NNZs: 15, Bias: -0.795106, T: 262500, Avg. loss: 0.379150\n",
            "Total training time: 0.08 seconds.\n",
            "-- Epoch 8\n",
            "Norm: 1.06, NNZs: 15, Bias: -0.819925, T: 300000, Avg. loss: 0.378856\n",
            "Total training time: 0.09 seconds.\n",
            "-- Epoch 9\n",
            "Norm: 1.07, NNZs: 15, Bias: -0.837805, T: 337500, Avg. loss: 0.378585\n",
            "Total training time: 0.11 seconds.\n",
            "-- Epoch 10\n",
            "Norm: 1.08, NNZs: 15, Bias: -0.853138, T: 375000, Avg. loss: 0.378630\n",
            "Total training time: 0.12 seconds.\n",
            "Convergence after 10 epochs took 0.12 seconds\n"
          ]
        },
        {
          "output_type": "execute_result",
          "data": {
            "text/plain": [
              "SGDClassifier(eta0=0.0001, learning_rate='constant', loss='log',\n",
              "              random_state=15, verbose=2)"
            ]
          },
          "metadata": {},
          "execution_count": 137
        }
      ],
      "source": [
        "sklearn_clf.fit(X = X_train, y = y_train) # fitting the model"
      ]
    },
    {
      "cell_type": "markdown",
      "metadata": {
        "id": "l3eF_VSPSH2z"
      },
      "source": [
        "#Compare the custom implementation and sklearn Logistic Regression SGDClassifier's the weights and intercept"
      ]
    },
    {
      "cell_type": "code",
      "source": [
        "def differece_check(customlr_clf, sklearn_clf):\n",
        "  val_coef = np.abs(np.array(customlr_clf.coef_ - sklearn_clf.coef_))\n",
        "  val_intercept = np.abs(customlr_clf.intercept_ - sklearn_clf.intercept_)\n",
        "  assert(np.all(val_coef <= 0.05) and val_intercept <= 0.01)\n",
        "  return 'Difference between custom implementaion and sklearn implementation is of order 1 %'"
      ],
      "metadata": {
        "id": "bjN_6nqkbt6K"
      },
      "execution_count": 138,
      "outputs": []
    },
    {
      "cell_type": "code",
      "source": [
        "differece_check(customlr_clf, sklearn_clf)"
      ],
      "metadata": {
        "colab": {
          "base_uri": "https://localhost:8080/",
          "height": 36
        },
        "id": "UundTAupeXUq",
        "outputId": "bd155180-01f2-4fa2-cf5c-9a57b7055ed2"
      },
      "execution_count": 139,
      "outputs": [
        {
          "output_type": "execute_result",
          "data": {
            "text/plain": [
              "'Difference between custom implementaion and sklearn implementation is of order 1 %'"
            ],
            "application/vnd.google.colaboratory.intrinsic+json": {
              "type": "string"
            }
          },
          "metadata": {},
          "execution_count": 139
        }
      ]
    },
    {
      "cell_type": "markdown",
      "source": [
        "**Conclusion:**\n",
        "\n",
        "\n",
        "\n",
        "*   The difference between weights andd intercept of custom implementaion and sklearn implementation is of order 1 %, which is pretty close which shows our implememntation is quite close to sklearn's implementation.\n",
        "\n"
      ],
      "metadata": {
        "id": "qKUtTS3vnrxD"
      }
    }
  ],
  "metadata": {
    "colab": {
      "collapsed_sections": [],
      "provenance": [],
      "include_colab_link": true
    },
    "kernelspec": {
      "display_name": "Python 3",
      "language": "python",
      "name": "python3"
    },
    "language_info": {
      "codemirror_mode": {
        "name": "ipython",
        "version": 3
      },
      "file_extension": ".py",
      "mimetype": "text/x-python",
      "name": "python",
      "nbconvert_exporter": "python",
      "pygments_lexer": "ipython3",
      "version": "3.6.3"
    }
  },
  "nbformat": 4,
  "nbformat_minor": 0
}